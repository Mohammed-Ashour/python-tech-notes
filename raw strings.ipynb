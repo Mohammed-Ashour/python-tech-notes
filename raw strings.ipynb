{
 "cells": [
  {
   "cell_type": "markdown",
   "metadata": {},
   "source": [
    "# Python r\"string\" and \"string\""
   ]
  },
  {
   "cell_type": "markdown",
   "metadata": {},
   "source": [
    "Consider we have a variable x = \"abc\" and y = r\"abc\" and get the len() of each variable"
   ]
  },
  {
   "cell_type": "code",
   "execution_count": 1,
   "metadata": {
    "collapsed": false
   },
   "outputs": [
    {
     "name": "stdout",
     "output_type": "stream",
     "text": [
      "abc 3 <type 'str'>\n",
      "abc 3 <type 'str'>\n"
     ]
    }
   ],
   "source": [
    "x = \"abc\"\n",
    "y = r\"abc\"\n",
    "print x + \" \"+ str(len(x)) + \" \"+ str(type(x))\n",
    "print y + \" \"+ str(len(y))+ \" \" + str(type(y))"
   ]
  },
  {
   "cell_type": "code",
   "execution_count": 2,
   "metadata": {
    "collapsed": false
   },
   "outputs": [
    {
     "name": "stdout",
     "output_type": "stream",
     "text": [
      "abc\t 4 <type 'str'>\n",
      "abc\\t 5 <type 'str'>\n"
     ]
    }
   ],
   "source": [
    "x = \"abc\\t\"\n",
    "y = r\"abc\\t\"\n",
    "print x + \" \"+ str(len(x)) + \" \"+ str(type(x))\n",
    "print y + \" \"+ str(len(y))+ \" \" + str(type(y))"
   ]
  },
  {
   "cell_type": "markdown",
   "metadata": {},
   "source": [
    "try to convert a normal string to a raw string generated in the runtime"
   ]
  },
  {
   "cell_type": "code",
   "execution_count": 3,
   "metadata": {
    "collapsed": false
   },
   "outputs": [
    {
     "name": "stdout",
     "output_type": "stream",
     "text": [
      "abc\t\n"
     ]
    }
   ],
   "source": [
    "a = \"abc\\t\"\n",
    "print a"
   ]
  },
  {
   "cell_type": "code",
   "execution_count": 4,
   "metadata": {
    "collapsed": false
   },
   "outputs": [
    {
     "name": "stdout",
     "output_type": "stream",
     "text": [
      "'abc\\t'\n"
     ]
    }
   ],
   "source": [
    "b = \"%r\"%a\n",
    "print b"
   ]
  },
  {
   "cell_type": "code",
   "execution_count": null,
   "metadata": {
    "collapsed": true
   },
   "outputs": [],
   "source": []
  }
 ],
 "metadata": {
  "kernelspec": {
   "display_name": "Python 2",
   "language": "python",
   "name": "python2"
  },
  "language_info": {
   "codemirror_mode": {
    "name": "ipython",
    "version": 2
   },
   "file_extension": ".py",
   "mimetype": "text/x-python",
   "name": "python",
   "nbconvert_exporter": "python",
   "pygments_lexer": "ipython2",
   "version": "2.7.6"
  }
 },
 "nbformat": 4,
 "nbformat_minor": 0
}
